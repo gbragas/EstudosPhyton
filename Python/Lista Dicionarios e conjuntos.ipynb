{
 "cells": [
  {
   "cell_type": "code",
   "execution_count": null,
   "metadata": {},
   "outputs": [],
   "source": [
    "lista = [0, 1, 2]\n",
    "print(lista)\n",
    "#print(dir(lista))\n",
    "\n",
    "lista.append(3)\n",
    "print(lista)\n",
    "\n",
    "lista.pop()\n",
    "print(lista)\n",
    "\n",
    "print(lista[1])"
   ]
  },
  {
   "cell_type": "code",
   "execution_count": 2,
   "metadata": {},
   "outputs": [
    {
     "name": "stdout",
     "output_type": "stream",
     "text": [
      "{'braguinha': {'altura': 1.75, 'idade': 18}, 'Matheus': {'altura': 1.72, 'idade': 18}, 'Ernandes': {'altura': 1.75, 'idade': 16}, 'Kill': {'altura': 1.75, 'idade': 17}, 'Caique': {'altura': 1.68, 'idade': 69}, 'Futema': {'altura': 70, 'idade': 17}}\n",
      "{'altura': 1.75, 'idade': 18}\n"
     ]
    }
   ],
   "source": [
    "dicionario = {'braguinha': {'altura': 1.75, 'idade': 18}, 'Matheus': {'altura': 1.72, 'idade': 18}, 'Ernandes': {'altura': 1.75, 'idade': 16}, 'Kill': {'altura': 1.75, 'idade': 17}, 'Caique': {'altura': 1.68, 'idade': 69}, 'Futema': {'altura': 70, 'idade': 17}}\n",
    "\n",
    "print(dicionario)\n",
    "print(dicionario['braguinha'])\n",
    "#print(dir(dicionario))"
   ]
  },
  {
   "cell_type": "code",
   "execution_count": 1,
   "metadata": {},
   "outputs": [
    {
     "name": "stdout",
     "output_type": "stream",
     "text": [
      "{'jonas': 'legal'}\n"
     ]
    }
   ],
   "source": [
    "nomes = {}\n",
    "\n",
    "nomes['jonas'] = 'legal'\n",
    "\n",
    "print(nomes)"
   ]
  },
  {
   "cell_type": "code",
   "execution_count": null,
   "metadata": {},
   "outputs": [],
   "source": []
  },
  {
   "cell_type": "code",
   "execution_count": null,
   "metadata": {},
   "outputs": [],
   "source": []
  },
  {
   "cell_type": "code",
   "execution_count": null,
   "metadata": {},
   "outputs": [],
   "source": []
  }
 ],
 "metadata": {
  "kernelspec": {
   "display_name": "Python 3",
   "language": "python",
   "name": "python3"
  },
  "language_info": {
   "codemirror_mode": {
    "name": "ipython",
    "version": 3
   },
   "file_extension": ".py",
   "mimetype": "text/x-python",
   "name": "python",
   "nbconvert_exporter": "python",
   "pygments_lexer": "ipython3",
   "version": "3.7.6"
  }
 },
 "nbformat": 4,
 "nbformat_minor": 4
}
