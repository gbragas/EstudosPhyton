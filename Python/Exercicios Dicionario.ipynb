{
 "cells": [
  {
   "cell_type": "code",
   "execution_count": null,
   "metadata": {},
   "outputs": [],
   "source": [
    "#Exercicio 1\n",
    "dicionario = {'Ernandes': {'local': 'Sao Paulo'}, 'Braguinha': {'local': 'Sao Paulo'},'Matheus Zika Poucas Bala': {'local': 'SBC pancadaria e bomba'}}\n",
    "print(dicionario)"
   ]
  },
  {
   "cell_type": "code",
   "execution_count": null,
   "metadata": {},
   "outputs": [],
   "source": [
    "#Exercicio 2\n",
    "nome = input('Digite seu nome')\n",
    "local = input('Cidade onde mora')\n",
    "dicionario[nome]= {'local: ' + local}\n",
    "print(dicionario)"
   ]
  },
  {
   "cell_type": "code",
   "execution_count": 4,
   "metadata": {},
   "outputs": [
    {
     "name": "stdout",
     "output_type": "stream",
     "text": [
      "Digite seu nomebraga\n",
      "Sua formaacaoestudante\n",
      "Informe seu salario3000\n",
      "Infome seu cpf45076274866\n",
      "{'45076274866': {'nome: braga,  formacao: estudante, salario: 3000'}}\n"
     ]
    }
   ],
   "source": [
    "#Exercicio 3\n",
    "dicionario = {}\n",
    "nome = input('Digite seu nome')\n",
    "formacao = input('Sua formaacao')\n",
    "salario = input('Informe seu salario')\n",
    "cpf = input('Infome seu cpf')\n",
    "dicionario[cpf] = {'nome: ' + nome + ',  formacao: ' + formacao + ', salario: ' + salario}\n",
    "print(dicionario)"
   ]
  },
  {
   "cell_type": "code",
   "execution_count": 10,
   "metadata": {},
   "outputs": [
    {
     "name": "stdout",
     "output_type": "stream",
     "text": [
      "{'SP': {True}, 'Ariendel': {False}}\n"
     ]
    }
   ],
   "source": [
    "#Exercicio 4\n",
    "dicionario = {'SP': {True}, 'Ariendel': {False}}\n",
    "print(dicionario)"
   ]
  },
  {
   "cell_type": "code",
   "execution_count": null,
   "metadata": {},
   "outputs": [],
   "source": []
  }
 ],
 "metadata": {
  "kernelspec": {
   "display_name": "Python 3",
   "language": "python",
   "name": "python3"
  },
  "language_info": {
   "codemirror_mode": {
    "name": "ipython",
    "version": 3
   },
   "file_extension": ".py",
   "mimetype": "text/x-python",
   "name": "python",
   "nbconvert_exporter": "python",
   "pygments_lexer": "ipython3",
   "version": "3.7.6"
  }
 },
 "nbformat": 4,
 "nbformat_minor": 4
}
