{
 "cells": [
  {
   "cell_type": "code",
   "execution_count": null,
   "metadata": {},
   "outputs": [],
   "source": [
    "#Exercicio 1\n",
    "print ('alo mundo')"
   ]
  },
  {
   "cell_type": "code",
   "execution_count": null,
   "metadata": {},
   "outputs": [],
   "source": [
    "#Exercicio 2\n",
    "num =int(input('Digite um numero: '))\n",
    "print('O numero escolhido eh ', num)\n",
    "print('O numero escolhido eh {{{}}}'.format(num))"
   ]
  },
  {
   "cell_type": "code",
   "execution_count": null,
   "metadata": {},
   "outputs": [],
   "source": [
    "#Exercicio 3\n",
    "num1 =int(input('Digite um numero: '))\n",
    "num2 =int(input('Digite outro numero: '))\n",
    "print(num1 + num2)"
   ]
  },
  {
   "cell_type": "code",
   "execution_count": null,
   "metadata": {},
   "outputs": [],
   "source": [
    "#Exercicio 4\n",
    "nota1 =int(input('Digite a nota do primeiro bimestre'))\n",
    "nota2 =int(input('Digite a nota do segundo bimestre'))\n",
    "nota3 =int(input('Digite a nota do terceiro bimestre'))\n",
    "nota4 =int(input('Digite a nota do quarto trimestre'))\n",
    "media = (nota1 + nota2 + nota3 + nota4)/4\n",
    "print('A media do aluno eh', media)"
   ]
  },
  {
   "cell_type": "code",
   "execution_count": null,
   "metadata": {},
   "outputs": [],
   "source": [
    "#Exercicio 5\n",
    "metros =int(input('Digite um tamanho em metros '))\n",
    "centimetros = metros * 100\n",
    "print('O tamanho em centimetros eh', metros)"
   ]
  },
  {
   "cell_type": "code",
   "execution_count": null,
   "metadata": {},
   "outputs": [],
   "source": [
    "#######################################################################################"
   ]
  },
  {
   "cell_type": "code",
   "execution_count": null,
   "metadata": {},
   "outputs": [],
   "source": [
    "#Exercicio 1 \n",
    "num1 =int(input('Digite um numero '))\n",
    "num2 =int(input('Digite outro numero '))\n",
    "if num1 > num2:\n",
    "    print('O maior numero eh', num1)\n",
    "else:\n",
    "    print('O maior numero eh', num2)"
   ]
  },
  {
   "cell_type": "code",
   "execution_count": null,
   "metadata": {},
   "outputs": [],
   "source": [
    "#Exercicio 2\n",
    "num1 =int(input('Digite um numero '))\n",
    "if num1 >= 0:\n",
    "    print(\"O numero \"+ str(num1) +\" eh positivo\")\n",
    "else:\n",
    "    print(\"O numero \"+ str(num1) +\" eh negativo\")"
   ]
  },
  {
   "cell_type": "code",
   "execution_count": null,
   "metadata": {},
   "outputs": [],
   "source": [
    "#Exercicio 3\n",
    "sexo =input('Digite seu sexo F-Feminino, M-Masculino: ').upper()\n",
    "if sexo == 'F':\n",
    "    print('Feminino')\n",
    "elif sexo == 'M':\n",
    "    print('Masculino')\n",
    "else:\n",
    "    print('Sexo Invalido')"
   ]
  },
  {
   "cell_type": "code",
   "execution_count": null,
   "metadata": {},
   "outputs": [],
   "source": [
    "#Exercicio 4\n",
    "letra =input('Digite uma letra: ').upper()\n",
    "if letra in ['A', 'E', 'I', 'O', 'U']:\n",
    "    print(\"A letra \"+ letra +\" eh vogal\")\n",
    "elif letra.isalpha() == False:\n",
    "    print(letra +\" nao eh letra idiota\")\n",
    "else:\n",
    "    print(\"A letra \"+ letra +\" eh consoante\")"
   ]
  },
  {
   "cell_type": "code",
   "execution_count": null,
   "metadata": {},
   "outputs": [],
   "source": [
    "#Exercicio 5\n",
    "nota1 = int(input('Digite a primeira nota: '))\n",
    "nota2 = int(input('Digite a segunda nota: '))\n",
    "media = (nota1 + nota2)/2\n",
    "if media == 10:\n",
    "    print('Aprovaado por Distinção')\n",
    "elif media >= 7 and media <10:\n",
    "    print('Aprovado')\n",
    "elif media >= 0 and media < 7:\n",
    "    print('Reprovado')\n",
    "else:\n",
    "    print('Eh impossivel o aluno ter media {} professor burro'.format(media))"
   ]
  },
  {
   "cell_type": "code",
   "execution_count": null,
   "metadata": {},
   "outputs": [],
   "source": [
    "########################################################################"
   ]
  },
  {
   "cell_type": "code",
   "execution_count": null,
   "metadata": {},
   "outputs": [],
   "source": [
    "#Exercicio 1 \n",
    "numero =int(input('Digite um numero entre 0 e 10: '))\n",
    "while numero < 0 or numero > 10:\n",
    "    print('numero invalido')\n",
    "    numero =int(input ('Digite um numero valido: '))"
   ]
  },
  {
   "cell_type": "code",
   "execution_count": null,
   "metadata": {},
   "outputs": [],
   "source": [
    "#Exercicio 2\n",
    "nome =input('Digite um nome de usuario: ')\n",
    "senha =input('Digite sua senha : ')\n",
    "while nome == senha:\n",
    "    print('Nome de usuario e senha nao podem ser iguais')\n",
    "    nome =input('Digite o novo nome de usuario: ')\n",
    "    senha =input('Digite a nova senha: ')"
   ]
  },
  {
   "cell_type": "code",
   "execution_count": null,
   "metadata": {},
   "outputs": [
    {
     "name": "stdout",
     "output_type": "stream",
     "text": [
      "Digite seu nome com mais de 3 caracteres: fgfg\n",
      "Informe sua idade: 45\n",
      "Informe seu salario: 45\n",
      "Informe eu sexo \"f\" ou \"m\": g\n",
      "Sexo invalido informe eu sexo \"f\" ou \"m\": f\n"
     ]
    }
   ],
   "source": [
    "#Exercicio 3\n",
    "nome =input('Digite seu nome com mais de 3 caracteres: ')\n",
    "while len(nome) <= 3:\n",
    "    nome =input('Nome invalido digite seu nome com mais de 3 caracteres: ')\n",
    "    \n",
    "idade =int(input('Informe sua idade: '))\n",
    "while idade < 0 or idade > 150:\n",
    "    idade =int(input('Idade invalida informe sua idade: '))\n",
    "    \n",
    "salario =int(input('Informe seu salario: '))\n",
    "while salario < 0:\n",
    "    salario =int(input('Salario invalido informe seu salario: '))\n",
    "    \n",
    "sexo =input('Informe eu sexo \"f\" ou \"m\": ')\n",
    "while sexo != 'f' and sexo != 'm':\n",
    "    sexo =input('Sexo invalido informe eu sexo \"f\" ou \"m\": ')\n",
    "    \n",
    "estadoCivil =input('Informe seu estado civil \"s\" \"v\" \"c\" \"d\"')\n",
    "while estadoCivil != 's' and estadoCivil != 'v' and estadoCivil != 'c' and estadoCivil != 'd':\n",
    "    estadoCivil =input('Estado civil invalido informe seu estado civil \"s\" \"v\" \"c\" \"d\"')\n"
   ]
  },
  {
   "cell_type": "code",
   "execution_count": 1,
   "metadata": {},
   "outputs": [
    {
     "name": "stdout",
     "output_type": "stream",
     "text": [
      "63\n"
     ]
    }
   ],
   "source": [
    "#Exercicio 4 \n",
    "paisA = 80000\n",
    "paisB = 200000\n",
    "anos = 0\n",
    "while paisA < paisB:\n",
    "    paisA = paisA * 1.03\n",
    "    paisB = paisB * 1.015\n",
    "    anos += 1\n",
    "print(anos)"
   ]
  },
  {
   "cell_type": "code",
   "execution_count": 2,
   "metadata": {},
   "outputs": [],
   "source": [
    "##################################################################"
   ]
  },
  {
   "cell_type": "code",
   "execution_count": 3,
   "metadata": {},
   "outputs": [
    {
     "name": "stdout",
     "output_type": "stream",
     "text": [
      "1\n",
      "2\n",
      "3\n",
      "4\n",
      "5\n"
     ]
    }
   ],
   "source": [
    "#Exercicio 1\n",
    "vetor =[1, 2, 3, 4, 5]\n",
    "for x in range(len(vetor)):\n",
    "    print(vetor[x])"
   ]
  },
  {
   "cell_type": "code",
   "execution_count": 16,
   "metadata": {},
   "outputs": [
    {
     "name": "stdout",
     "output_type": "stream",
     "text": [
      "10\n",
      "9\n",
      "8\n",
      "7\n",
      "6\n",
      "5\n",
      "4\n",
      "3\n",
      "2\n",
      "1\n"
     ]
    }
   ],
   "source": [
    "#Exercicio 2\n",
    "vetor =[1, 2, 3, 4, 5, 6, 7, 8, 9, 10]\n",
    "vetor.reverse()\n",
    "for x in range(len(vetor)):\n",
    "    print(vetor[x])"
   ]
  },
  {
   "cell_type": "code",
   "execution_count": 28,
   "metadata": {},
   "outputs": [
    {
     "name": "stdout",
     "output_type": "stream",
     "text": [
      "6.0\n"
     ]
    }
   ],
   "source": [
    "#Exercicio 3\n",
    "notas =[4, 8, 8, 4]\n",
    "somaNotas = 0\n",
    "for x in range(len(notas)):\n",
    "    somaNotas += notas[x]\n",
    "media = somaNotas/4\n",
    "print(media)"
   ]
  },
  {
   "cell_type": "code",
   "execution_count": 5,
   "metadata": {},
   "outputs": [
    {
     "name": "stdout",
     "output_type": "stream",
     "text": [
      "['g', 'h', 'k', 'l', 't', 'b']\n",
      "A quantidade de consoantes eh 6\n"
     ]
    }
   ],
   "source": [
    "#Exercicio 4\n",
    "letras = [\"a\" ,\"g\", \"e\", \"h\", \"k\", \"l\", \"t\", \"i\", \"b\", \"o\"]\n",
    "consoantes = []\n",
    "for letra in letras:\n",
    "    if letra not in [\"a\", \"e\", \"i\", \"o\", \"u\"]:\n",
    "        consoantes.append(letra)\n",
    "print(consoantes)\n",
    "print('A quantidade de consoantes eh {}'.format(len(consoantes)))   "
   ]
  },
  {
   "cell_type": "code",
   "execution_count": 9,
   "metadata": {
    "scrolled": true
   },
   "outputs": [
    {
     "name": "stdout",
     "output_type": "stream",
     "text": [
      "[2, 45, 78, 32, 56, 75, 99, 21, 23, 58, 76, 90, 53, 76, 89, 87, 9, 1, 4, 20]\n",
      "[2, 78, 32, 56, 58, 76, 90, 76, 4, 20]\n",
      "[45, 75, 99, 21, 23, 53, 89, 87, 9, 1]\n"
     ]
    }
   ],
   "source": [
    "#Exercicio 5\n",
    "num = [2,45,78,32,56,75,99,21,23,58,76,90,53,76,89,87,9,1,4,20]\n",
    "par = []\n",
    "impar = []\n",
    "for i in num:\n",
    "    if i % 2 == 0:\n",
    "        par.append(i)\n",
    "    else:\n",
    "        impar.append(i)\n",
    "print(num)\n",
    "print(par)\n",
    "print(impar)\n",
    "                     "
   ]
  },
  {
   "cell_type": "code",
   "execution_count": null,
   "metadata": {},
   "outputs": [],
   "source": [
    "#######################################################################################"
   ]
  },
  {
   "cell_type": "code",
   "execution_count": 2,
   "metadata": {},
   "outputs": [
    {
     "name": "stdout",
     "output_type": "stream",
     "text": [
      "Digite um numero: 8\n",
      "[8, 8, 8, 8, 8, 8, 8, 8]\n"
     ]
    }
   ],
   "source": [
    "#Exercicio 1\n",
    "def funcao():\n",
    "    num = int(input('Digite um numero: '))\n",
    "    seq = []\n",
    "    for x in range(0,num,1):\n",
    "        seq.append(num)\n",
    "    print(seq)\n",
    "funcao()"
   ]
  },
  {
   "cell_type": "code",
   "execution_count": 1,
   "metadata": {},
   "outputs": [
    {
     "name": "stdout",
     "output_type": "stream",
     "text": [
      "Digite um numero: 6\n",
      "[6, 6, 6, 6, 6, 6]\n"
     ]
    }
   ],
   "source": [
    "def funcao(num):\n",
    "    seq = []\n",
    "    for x in range(0,num,1):\n",
    "        seq.append(num)\n",
    "    print(seq)\n",
    "funcao(int(input('Digite um numero: ')))"
   ]
  },
  {
   "cell_type": "code",
   "execution_count": 8,
   "metadata": {},
   "outputs": [
    {
     "name": "stdout",
     "output_type": "stream",
     "text": [
      "Digite um numero: 4\n",
      "[1, 2, 3, 4]\n"
     ]
    }
   ],
   "source": [
    "#Exercicio 2\n",
    "def funcao (num):\n",
    "    seq = []\n",
    "    for x in range(1,num+1,1):\n",
    "        seq.append(x)\n",
    "    print(seq)\n",
    "funcao(int(input('Digite um numero: ')))"
   ]
  },
  {
   "cell_type": "code",
   "execution_count": 10,
   "metadata": {
    "scrolled": true
   },
   "outputs": [
    {
     "data": {
      "text/plain": [
       "6"
      ]
     },
     "execution_count": 10,
     "metadata": {},
     "output_type": "execute_result"
    }
   ],
   "source": [
    "#Exercicio 3\n",
    "def soma(num1, num2, num3):\n",
    "    return num1 + num2 + num3\n",
    "soma(1, 2, 3)"
   ]
  },
  {
   "cell_type": "code",
   "execution_count": 13,
   "metadata": {},
   "outputs": [
    {
     "name": "stdout",
     "output_type": "stream",
     "text": [
      "Digite um numero: -6\n",
      "N\n"
     ]
    }
   ],
   "source": [
    "#Exercicio 4\n",
    "def merda(num):\n",
    "    if num > 0:\n",
    "        print('P')\n",
    "    else: \n",
    "        print('N')\n",
    "merda(int(input('Digite um numero: ')))        "
   ]
  },
  {
   "cell_type": "code",
   "execution_count": 14,
   "metadata": {},
   "outputs": [
    {
     "data": {
      "text/plain": [
       "28.0"
      ]
     },
     "execution_count": 14,
     "metadata": {},
     "output_type": "execute_result"
    }
   ],
   "source": [
    "#Exercicio 5\n",
    "def somaImposto(taxaImposto, custo):\n",
    "    return (taxaImposto + 1) * custo\n",
    "somaImposto(0.4, 20)"
   ]
  },
  {
   "cell_type": "code",
   "execution_count": 7,
   "metadata": {},
   "outputs": [],
   "source": [
    "#######################################################"
   ]
  },
  {
   "cell_type": "code",
   "execution_count": 6,
   "metadata": {},
   "outputs": [
    {
     "name": "stdout",
     "output_type": "stream",
     "text": [
      "{'g', 't', 'k', 'h', 'l', 'b'} 6\n"
     ]
    }
   ],
   "source": [
    "listaLetras = set([\"a\" ,\"g\", \"e\", \"h\", \"k\", \"l\", \"t\", \"i\", \"b\", \"o\", \"h\"])\n",
    "num = listaLetras - set(['a', 'e', 'i', 'o', 'u'])\n",
    "print(num, len(num))"
   ]
  },
  {
   "cell_type": "code",
   "execution_count": null,
   "metadata": {},
   "outputs": [],
   "source": [
    "\n"
   ]
  },
  {
   "cell_type": "code",
   "execution_count": null,
   "metadata": {},
   "outputs": [],
   "source": []
  }
 ],
 "metadata": {
  "kernelspec": {
   "display_name": "Python 3",
   "language": "python",
   "name": "python3"
  },
  "language_info": {
   "codemirror_mode": {
    "name": "ipython",
    "version": 3
   },
   "file_extension": ".py",
   "mimetype": "text/x-python",
   "name": "python",
   "nbconvert_exporter": "python",
   "pygments_lexer": "ipython3",
   "version": "3.7.6"
  }
 },
 "nbformat": 4,
 "nbformat_minor": 4
}
